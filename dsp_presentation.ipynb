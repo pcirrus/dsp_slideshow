{
 "cells": [
  {
   "cell_type": "markdown",
   "metadata": {
    "slideshow": {
     "slide_type": "slide"
    }
   },
   "source": [
    "# Analiza sygnału\n",
    "\n",
    "- Proces *wyciągania* informacji z określonego sygnału nazywa się **analizą sygnału**.\n",
    "- Najczęściej przeprowadza się **analizę czasową** oraz **analizę częstotliwościową**\n"
   ]
  },
  {
   "cell_type": "code",
   "execution_count": 71,
   "metadata": {
    "slideshow": {
     "slide_type": "subslide"
    }
   },
   "outputs": [],
   "source": [
    "from playsound import playsound\n",
    "#\"Carefree\"\n",
    "#Kevin MacLeod (incompetech.com)\n",
    "#Licensed under Creative Commons: By Attribution 3.0\n",
    "#http://creativecommons.org/licenses/by/3.0/\n",
    "playsound('./NONFREE/Carefree.wav')"
   ]
  },
  {
   "cell_type": "code",
   "execution_count": 68,
   "metadata": {
    "scrolled": true,
    "slideshow": {
     "slide_type": "subslide"
    }
   },
   "outputs": [
    {
     "data": {
      "image/png": "[encoded data removed]",
      "text/plain": [
       "<Figure size 432x288 with 2 Axes>"
      ]
     },
     "metadata": {
      "needs_background": "light"
     },
     "output_type": "display_data"
    }
   ],
   "source": [
    "from scipy.io import wavfile\n",
    "import matplotlib.pyplot as plt\n",
    "import numpy as np\n",
    "import matplotlib.mlab as mlab\n",
    "import matplotlib.gridspec as gridspec\n",
    "\n",
    "sample_rate, data = wavfile.read('./NONFREE/Carefree.wav')\n",
    "\n",
    "dt = 1/sample_rate\n",
    "length_in_s = len(data) * dt\n",
    "t = np.arange(0, length_in_s, dt)\n",
    "fig, (ax0, ax1) = plt.subplots(2, 1)\n",
    "ax0.plot(t[0:len(data)], data)\n",
    "n_samples = 128\n",
    "ax1.plot(range(n_samples), data[0:n_samples], 'o')\n",
    "#ax1.psd(s, 512, 1 / dt)\n",
    "\n",
    "plt.show()\n",
    "\n",
    "# TODO: enlarge plot"
   ]
  },
  {
   "cell_type": "markdown",
   "metadata": {},
   "source": [
    "# Analiza czasowa\n",
    "\n",
    "- możemy policzyć parametry (amplituda, moc)\n",
    "- możemy policzyć autokorelację\n",
    "- możemy przeprowadzić interpolację"
   ]
  },
  {
   "cell_type": "markdown",
   "metadata": {
    "slideshow": {
     "slide_type": "slide"
    }
   },
   "source": [
    "# Analiza częstotliwościowa\n",
    "\n",
    "**Częstotliwość** - powtarzalność zjawiska w określonej jednostce czasu\n",
    "\n",
    "Wiele sygnałów ma komponenty powtarzające się w czasie:\n",
    "- sygnały zmodulowane\n",
    "- fale akustyczne i radiowe\n",
    "- i inne"
   ]
  },
  {
   "cell_type": "markdown",
   "metadata": {
    "slideshow": {
     "slide_type": "subslide"
    }
   },
   "source": [
    "Większość sygnałów określonych jest w dziedzinie czasu: **f(t)**\n",
    "\n",
    "**TODO: spektrogram sygnału audio**\n",
    "\n",
    "Jak przekształcić *sygnał zależny od czasu* w *sygnał zależny od częstotliwości*?"
   ]
  },
  {
   "cell_type": "markdown",
   "metadata": {
    "slideshow": {
     "slide_type": "subslide"
    }
   },
   "source": [
    "# Rozwiązanie - funkcje trygonometryczne!\n",
    "\n",
    "- sin(x) - ma częstotliwość 1 Hz\n",
    "- sin(2x) - częstotliwość 2 Hz\n",
    "- sin(nx) - częstotliwość n Hz\n",
    "\n",
    "**Gdyby tylko dało się wyrazić naszą funkcję za pomocą sumy wielu sinusów!**"
   ]
  },
  {
   "cell_type": "markdown",
   "metadata": {
    "slideshow": {
     "slide_type": "subslide"
    }
   },
   "source": [
    "## Szczęście w nieszczęściu\n",
    "\n",
    "**TODO**\n",
    "- wyjaśnić przestrzeń liniową i bazę\n",
    "- pokazać bez dowodu że szereg Fouriera jest bazą\n",
    "- i że z twierdzenia Eulera-Fouriera możemy wyrazić sporą część funkcji w ten sposób"
   ]
  },
  {
   "cell_type": "markdown",
   "metadata": {
    "slideshow": {
     "slide_type": "subslide"
    }
   },
   "source": [
    "**Tutaj przykłady transformacji Fouriera**"
   ]
  },
  {
   "cell_type": "markdown",
   "metadata": {
    "slideshow": {
     "slide_type": "subslide"
    }
   },
   "source": [
    "# Idźmy dalej...\n",
    "\n",
    "**dyskretna transformata Fouriera**"
   ]
  },
  {
   "cell_type": "markdown",
   "metadata": {
    "slideshow": {
     "slide_type": "subslide"
    }
   },
   "source": [
    "# Złożoność obliczeniowa\n",
    "\n",
    "**FFT - Cooley-Tukey**"
   ]
  },
  {
   "cell_type": "markdown",
   "metadata": {
    "slideshow": {
     "slide_type": "subslide"
    }
   },
   "source": [
    "# Własności transformaty Fouriera\n",
    "\n",
    "**TODO**\n",
    "- splot -> mnożenie\n",
    "- odwrotna transformata Fouriera"
   ]
  },
  {
   "cell_type": "markdown",
   "metadata": {},
   "source": []
  }
 ],
 "metadata": {
  "celltoolbar": "Slideshow",
  "kernelspec": {
   "display_name": "Python 3 (ipykernel)",
   "language": "python",
   "name": "python3"
  },
  "language_info": {
   "codemirror_mode": {
    "name": "ipython",
    "version": 3
   },
   "file_extension": ".py",
   "mimetype": "text/x-python",
   "name": "python",
   "nbconvert_exporter": "python",
   "pygments_lexer": "ipython3",
   "version": "3.9.9"
  },
  "rise": {
   "start_slideshow_at": "beginning",
   "theme": "night",
   "transition": "zoom"
  }
 },
 "nbformat": 4,
 "nbformat_minor": 2
}

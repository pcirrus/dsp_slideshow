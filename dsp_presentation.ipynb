{
 "cells": [
  {
   "cell_type": "markdown",
   "metadata": {
    "slideshow": {
     "slide_type": "slide"
    }
   },
   "source": [
    "# Analiza sygnału\n",
    "\n",
    "Proces *wyciągania* informacji z określonego sygnału nazywa się **analizą sygnału**\n",
    "\n",
    "**TODO**\n",
    "- rzeczy z analizy sygnału: co można wyciągnąć i jak\n",
    "- że sygnały można analizować w czasie lub w częstotliwości"
   ]
  },
  {
   "cell_type": "code",
   "execution_count": null,
   "metadata": {},
   "outputs": [],
   "source": []
  },
  {
   "cell_type": "markdown",
   "metadata": {
    "slideshow": {
     "slide_type": "slide"
    }
   },
   "source": [
    "# Sposoby analizy czasowej\n",
    "- badanie wartości\n",
    "- interpolacja\n",
    "- autokorelacja\n",
    "- segmentacja"
   ]
  },
  {
   "cell_type": "markdown",
   "metadata": {
    "slideshow": {
     "slide_type": "slide"
    }
   },
   "source": [
    "# Analiza częstotliwościowa\n",
    "\n",
    "**Częstotliwość** - powtarzalność zjawiska w określonej jednostce czasu\n",
    "\n",
    "Wiele sygnałów ma komponenty powtarzające się w czasie:\n",
    "- sygnały zmodulowane\n",
    "- fale akustyczne i radiowe\n",
    "- i inne"
   ]
  },
  {
   "cell_type": "markdown",
   "metadata": {
    "slideshow": {
     "slide_type": "subslide"
    }
   },
   "source": [
    "Większość sygnałów określonych jest w dziedzinie czasu: **f(t)**\n",
    "\n",
    "**TODO: spektrogram sygnału audio**\n",
    "\n",
    "Jak przekształcić *sygnał zależny od czasu* w *sygnał zależny od częstotliwości*?"
   ]
  },
  {
   "cell_type": "markdown",
   "metadata": {
    "slideshow": {
     "slide_type": "subslide"
    }
   },
   "source": [
    "# Rozwiązanie - funkcje trygonometryczne!\n",
    "\n",
    "- sin(x) - ma częstotliwość 1 Hz\n",
    "- sin(2x) - częstotliwość 2 Hz\n",
    "- sin(nx) - częstotliwość n Hz\n",
    "\n",
    "**Gdyby tylko dało się wyrazić naszą funkcję za pomocą sumy wielu sinusów!**"
   ]
  },
  {
   "cell_type": "markdown",
   "metadata": {
    "slideshow": {
     "slide_type": "subslide"
    }
   },
   "source": [
    "## Szczęście w nieszczęściu\n",
    "\n",
    "**TODO**\n",
    "- wyjaśnić przestrzeń liniową i bazę\n",
    "- pokazać bez dowodu że szereg Fouriera jest bazą\n",
    "- i że z twierdzenia Eulera-Fouriera możemy wyrazić sporą część funkcji w ten sposób"
   ]
  },
  {
   "cell_type": "markdown",
   "metadata": {
    "slideshow": {
     "slide_type": "subslide"
    }
   },
   "source": [
    "**Tutaj przykłady transformacji Fouriera**"
   ]
  },
  {
   "cell_type": "markdown",
   "metadata": {
    "slideshow": {
     "slide_type": "subslide"
    }
   },
   "source": [
    "# Idźmy dalej...\n",
    "\n",
    "**dyskretna transformata Fouriera**"
   ]
  },
  {
   "cell_type": "markdown",
   "metadata": {
    "slideshow": {
     "slide_type": "subslide"
    }
   },
   "source": [
    "# Złożoność obliczeniowa\n",
    "\n",
    "**FFT - Cooley-Tukey**"
   ]
  },
  {
   "cell_type": "markdown",
   "metadata": {
    "slideshow": {
     "slide_type": "subslide"
    }
   },
   "source": [
    "# Własności transformaty Fouriera\n",
    "\n",
    "**TODO**\n",
    "- splot -> mnożenie\n",
    "- odwrotna transformata Fouriera"
   ]
  },
  {
   "cell_type": "markdown",
   "metadata": {},
   "source": []
  }
 ],
 "metadata": {
  "celltoolbar": "Slideshow",
  "kernelspec": {
   "display_name": "Python 3 (ipykernel)",
   "language": "python",
   "name": "python3"
  },
  "language_info": {
   "codemirror_mode": {
    "name": "ipython",
    "version": 3
   },
   "file_extension": ".py",
   "mimetype": "text/x-python",
   "name": "python",
   "nbconvert_exporter": "python",
   "pygments_lexer": "ipython3",
   "version": "3.9.9"
  },
  "rise": {
   "start_slideshow_at": "beginning",
   "theme": "night",
   "transition": "zoom"
  }
 },
 "nbformat": 4,
 "nbformat_minor": 2
}
